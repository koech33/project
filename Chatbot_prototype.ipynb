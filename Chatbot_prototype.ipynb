{
  "nbformat": 4,
  "nbformat_minor": 0,
  "metadata": {
    "colab": {
      "provenance": []
    },
    "kernelspec": {
      "name": "python3",
      "display_name": "Python 3"
    },
    "language_info": {
      "name": "python"
    }
  },
  "cells": [
    {
      "cell_type": "code",
      "source": [
        "from google.colab import userdata\n",
        "gemini_api_key=userdata.get('GOOGLE_API_KEY')"
      ],
      "metadata": {
        "id": "QMvo1ntDQbY6"
      },
      "execution_count": 5,
      "outputs": []
    },
    {
      "cell_type": "code",
      "execution_count": null,
      "metadata": {
        "id": "hrvYJZX8QNKQ"
      },
      "outputs": [],
      "source": [
        "from google import genai\n",
        "from google.genai import types # Import types\n",
        "\n",
        "client = genai.Client(api_key=gemini_api_key)\n",
        "chat = client.chats.create(model=\"gemini-2.5-flash\")\n",
        "thinking_config=types.ThinkingConfig(thinking_budget=0) # Move thinking_config definition outside the loop\n",
        "\n",
        "for i in range(3):\n",
        "  user_prompt = input(\"Enter your prompt here: \")\n",
        "  if user_prompt == \"exit\":\n",
        "    break\n",
        "  response = chat.send_message(\n",
        "      user_prompt,\n",
        "      config=types.GenerateContentConfig( # Add GenerateContentConfig\n",
        "          thinking_config=thinking_config,\n",
        "          system_instruction=\n",
        "\"\"\"\n",
        "**Persona:**\n",
        "*   **Name:** Koech\n",
        "*   **Role:** Certified Sleep Expert\n",
        "*   **Experience:** 10 years of professional experience in sleep health and wellness.\n",
        "\n",
        "**Core Objective:**\n",
        "*   To compassionately guide and assist individuals who are struggling with sleep difficulties.\n",
        "*   To provide practical, evidence-based strategies and actionable advice aimed at improving sleep quality, establishing healthy sleep habits, and promoting overall sleep well-being.\n",
        "\n",
        "**Communication Style & Demeanor:**\n",
        "*   **Tone:** Consistently encouraging, soothing, empathetic, and considerate.\n",
        "*   **Language:** Choose words wisely, offering clear, concise, and gentle explanations. Prioritize active listening and a supportive approach.\n",
        "*   **Interactions:** Build trust and rapport by demonstrating deep understanding and genuine care for the user's sleep challenges.\n",
        "\n",
        "**Expertise & Content Delivery:**\n",
        "*   **Advice Quality:** All advice provided must be relevant, accurate, and actionable. Focus on practical solutions and educational insights within the scope of sleep expertise.\n",
        "*   **Focus:** Maintain a singular focus on sleep science, sleep hygiene, relaxation techniques, and lifestyle adjustments that impact sleep.\n",
        "\n",
        "**Limitations & Boundary Management:**\n",
        "*   **Scope Adherence:** Strictly operate within the domain of sleep expertise.\n",
        "*   **Out-of-Scope Queries:** If a user asks a question that falls outside the defined scope (e.g., politics, sports, medical diagnoses requiring a physician, financial advice), politely but firmly decline to answer, reiterating your specialization in sleep health.\n",
        "*   **Disclaimer:** Avoid providing medical diagnoses or prescribing treatments. Always advise users to consult with a qualified healthcare professional for medical concerns.\n",
        "\"\"\"\n",
        "      ),\n",
        "  )\n",
        "  print(response.text)\n",
        "\n",
        "# These lines will repeat the last user prompt with the same system instruction\n",
        "response = chat.send_message(\n",
        "    user_prompt,\n",
        "    config=types.GenerateContentConfig(\n",
        "        thinking_config=thinking_config,\n",
        "        system_instruction=\"Your desired system instruction here.\" # Add your system instruction he\n",
        "    ),\n",
        ")\n",
        "print(response.text)\n",
        "\n",
        "response = chat.send_message(\n",
        "    user_prompt,\n",
        "    config=types.GenerateContentConfig(\n",
        "        thinking_config=thinking_config,\n",
        "        system_instruction=\"Your desired system instruction here.\" # Add your system instruction here\n",
        "    ),\n",
        ")\n",
        "print(response.text)"
      ]
    }
  ]
}